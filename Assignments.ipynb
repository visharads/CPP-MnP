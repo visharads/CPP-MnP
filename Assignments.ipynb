{
 "cells": [
  {
   "cell_type": "markdown",
   "metadata": {},
   "source": [
    "# **Basic Python**"
   ]
  },
  {
   "cell_type": "markdown",
   "metadata": {},
   "source": [
    "## 1.a \n",
    "Give a function F that takes a single argument n. This function should print a sequence of n strings as described in the examples below: <br>\n",
    "Ex: **n = 3**\n",
    "\n",
    "--A--<br>\n",
    "-BAB-<br>\n",
    "CBABC<br>\n",
    "\n",
    "**n = 4**\n",
    "\n",
    "---A---<br>\n",
    "--BAB--<br>\n",
    "-CBABC-<br>\n",
    "DCBABCD"
   ]
  },
  {
   "cell_type": "code",
   "execution_count": 49,
   "metadata": {},
   "outputs": [
    {
     "name": "stdout",
     "output_type": "stream",
     "text": [
      "---------A---------\n",
      "--------BAB--------\n",
      "-------CBABC-------\n",
      "------DCBABCD------\n",
      "-----EDCBABCDE-----\n",
      "----FEDCBABCDEF----\n",
      "---GFEDCBABCDEFG---\n",
      "--HGFEDCBABCDEFGH--\n",
      "-IHGFEDCBABCDEFGHI-\n",
      "JIHGFEDCBABCDEFGHIJ\n",
      "-----A-----\n",
      "----BAB----\n",
      "---CBABC---\n",
      "--DCBABCD--\n",
      "-EDCBABCDE-\n",
      "FEDCBABCDEF\n"
     ]
    }
   ],
   "source": [
    "def F(n):\n",
    "    for i in range(n):\n",
    "        print('-'*(n-i-1), end = \"\")\n",
    "        for j in range(2*i+1):\n",
    "            letter = abs(i-j)\n",
    "            print(chr(ord('A')+letter), end = \"\")\n",
    "        print('-'*(n-i-1))\n",
    "        \n",
    "# Tests\n",
    "F(10)\n",
    "F(6)"
   ]
  },
  {
   "cell_type": "markdown",
   "metadata": {},
   "source": [
    "## 1.b\n",
    "Make a function F that takes only one argument, a dictionary(dict) d.\n",
    "The keys of d are integers and the values of d are a tuple of type (x (int), y (int)).\n",
    "You must print out the dict in the format \"-key-, -x-, -y-\" with each entry in a new line. Print it for each of the three sorted orders, by key values ascending, by x values descending, by y values ascending."
   ]
  },
  {
   "cell_type": "code",
   "execution_count": 52,
   "metadata": {},
   "outputs": [
    {
     "name": "stdout",
     "output_type": "stream",
     "text": [
      "1 1 2\n",
      "2 -1 4\n",
      "4 2 3\n",
      "5 -4 3\n",
      "4 2 3\n",
      "1 1 2\n",
      "2 -1 4\n",
      "5 -4 3\n",
      "2 -1 4\n",
      "5 -4 3\n",
      "4 2 3\n",
      "1 1 2\n",
      "-8 4 2\n",
      "5 9 -10\n",
      "6 -3 4\n",
      "7 2 1\n",
      "5 9 -10\n",
      "-8 4 2\n",
      "7 2 1\n",
      "6 -3 4\n",
      "6 -3 4\n",
      "-8 4 2\n",
      "7 2 1\n",
      "5 9 -10\n"
     ]
    }
   ],
   "source": [
    "def F(d : dict):\n",
    "    #key values ascending\n",
    "    keys = list(d.keys())\n",
    "    keys.sort()\n",
    "    for i in keys:\n",
    "        print((str(i) + \" \" + str(d[i][0]) + \" \" + str(d[i][1])))\n",
    "        \n",
    "    #x values descending\n",
    "    items = list(d.items())\n",
    "    newDict = {}\n",
    "    for item in items:\n",
    "        if(item[1][0] not in newDict.keys()):\n",
    "            newDict[item[1][0]] = [item[0], ]\n",
    "        else:\n",
    "            newDict[item[1][0]].append(item[0])\n",
    "    dOccurences = {}\n",
    "    for item in newDict:\n",
    "        dOccurences[item] = len(newDict[item])\n",
    "    xCoords = list(newDict.keys())\n",
    "    xCoords.sort(reverse = True)\n",
    "    for i in xCoords:\n",
    "        for j in range(dOccurences[i]):\n",
    "            key = newDict[i][j]\n",
    "            print((str(key) + \" \" + str(d[key][0]) + \" \" + str(d[key][1])))\n",
    "        \n",
    "    #x values descending\n",
    "    items = list(d.items())\n",
    "    newDict = {}\n",
    "    for item in items:\n",
    "        if(item[1][1] not in newDict.keys()):\n",
    "            newDict[item[1][1]] = [item[0], ]\n",
    "        else:\n",
    "            newDict[item[1][1]].append(item[0])\n",
    "    dOccurences = {}\n",
    "    for item in newDict:\n",
    "        dOccurences[item] = len(newDict[item])\n",
    "    yCoords = list(newDict.keys())\n",
    "    yCoords.sort(reverse = True)\n",
    "    for i in yCoords:\n",
    "        for j in range(dOccurences[i]):\n",
    "            key = newDict[i][j]\n",
    "            print((str(key) + \" \" + str(d[key][0]) + \" \" + str(d[key][1])))\n",
    "\n",
    "# Tests\n",
    "F({1 : (1, 2), 2 : (-1, 4), 5 : (-4, 3), 4 : (2, 3)})\n",
    "F({-8 : (4, 2), 6 : (-3, 4), 7 : (2, 1), 5 : (9, -10)})"
   ]
  },
  {
   "cell_type": "markdown",
   "metadata": {},
   "source": [
    "## 2 Working with Student Records\n",
    "\n",
    "Use the data in **student_records.csv** to complete the given tasks. Do not include any external libraries. Use a Python dictionary if required.\n",
    "\n",
    "### Reference\n",
    "- [Python Dictionaries](https://www.w3schools.com/python/python_dictionaries.asp)\n"
   ]
  },
  {
   "cell_type": "markdown",
   "metadata": {},
   "source": [
    "#### 2.a: open the student_records.csv file and print out the first 10 rows"
   ]
  },
  {
   "cell_type": "code",
   "execution_count": 56,
   "metadata": {},
   "outputs": [
    {
     "name": "stdout",
     "output_type": "stream",
     "text": [
      "roll_number department credit course_name course_type grade \n",
      "588946 MA 3 EC250 hasmed_elective AB \n",
      "145372 EP 4 EP407 hasmed_elective CC \n",
      "834515 MA 8 EP885 hasmed_elective BB \n",
      "344265 CSE 6 CSE699 honours AB \n",
      "358405 MA 3 EE460 minor AP \n",
      "781075 CE 8 CE540 honours CC \n",
      "180828 CSE 6 CE880 minor AB \n",
      "981238 MM 4 CSE226 minor AB \n",
      "836881 MM 8 MM530 core AA \n",
      "310604 EE 8 EE202 core AB \n"
     ]
    }
   ],
   "source": [
    "f = open('student_records.csv', 'r')\n",
    "lines = f.read().split('\\n')\n",
    "f.close()\n",
    "data = []\n",
    "for line in lines:\n",
    "    data.append(line.split(','))\n",
    "\n",
    "#printing first 10 rows excluding the headings i.e. 11 rows\n",
    "for row in data[:11]:\n",
    "    for element in row:\n",
    "        print(element, end = \" \")\n",
    "    print()"
   ]
  },
  {
   "cell_type": "markdown",
   "metadata": {},
   "source": [
    "#### 2.b: Print out the total credits and calculte CPI of each student. \n",
    "CPI is the weighted average of core courses, and electives (weights being the letter grades converted to number AP,AA=10, AB=9, BB=9, BC=7, CC=6)"
   ]
  },
  {
   "cell_type": "code",
   "execution_count": 59,
   "metadata": {},
   "outputs": [
    {
     "name": "stdout",
     "output_type": "stream",
     "text": [
      "16618\n",
      "588946 8.693467336683417\n",
      "145372 7.745664739884393\n",
      "834515 8.21608040201005\n",
      "344265 8.699346405228757\n",
      "358405 8.587378640776699\n",
      "781075 8.170731707317072\n",
      "180828 8.096045197740112\n",
      "981238 8.244047619047619\n",
      "836881 8.386178861788618\n",
      "310604 8.333333333333334\n",
      "847809 8.210727969348659\n",
      "773982 8.068181818181818\n",
      "500658 8.16826923076923\n",
      "810863 8.151041666666666\n",
      "124663 8.126637554585153\n",
      "364146 8.395555555555555\n",
      "871746 8.212962962962964\n",
      "270007 8.033195020746888\n",
      "597353 8.12\n",
      "986057 8.06532663316583\n",
      "718510 8.429347826086957\n",
      "836431 7.9\n",
      "379479 8.246153846153845\n",
      "582912 8.656108597285067\n",
      "788020 8.015544041450777\n",
      "613401 8.440191387559809\n",
      "144528 8.157894736842104\n",
      "485484 8.36111111111111\n",
      "680096 8.045751633986928\n",
      "199713 8.290697674418604\n",
      "851029 8.322981366459627\n",
      "845623 8.375527426160337\n",
      "150503 8.289017341040463\n",
      "214270 7.877729257641922\n",
      "517837 8.580487804878048\n",
      "482623 8.401574803149606\n",
      "721490 8.34468085106383\n",
      "955757 8.290836653386455\n",
      "589528 8.732026143790849\n",
      "143856 8.487562189054726\n",
      "571782 8.423963133640553\n",
      "973158 8.512953367875648\n",
      "703403 8.338582677165354\n",
      "960395 8.625954198473282\n",
      "521087 7.910313901345291\n",
      "461971 8.293650793650794\n",
      "879634 8.738916256157635\n",
      "716985 8.183783783783785\n",
      "194063 8.140127388535031\n",
      "265922 8.347457627118644\n",
      "283796 8.815165876777252\n",
      "203200 8.789808917197453\n",
      "301135 8.325242718446601\n",
      "327122 8.16260162601626\n",
      "381526 8.425\n",
      "534763 7.930379746835443\n",
      "391848 8.43778801843318\n",
      "329535 8.229299363057326\n",
      "971123 7.961904761904762\n",
      "207443 8.304347826086957\n",
      "488661 8.60483870967742\n",
      "782129 8.53804347826087\n",
      "928288 8.513089005235603\n",
      "581858 8.050925925925926\n",
      "733782 8.420118343195266\n",
      "282482 8.289473684210526\n",
      "572815 8.316037735849056\n",
      "608952 8.326693227091633\n",
      "628849 8.71584699453552\n",
      "630568 8.244239631336406\n",
      "388969 8.314410480349345\n",
      "159438 8.380681818181818\n",
      "478606 8.319672131147541\n",
      "995208 7.7834394904458595\n",
      "841365 7.994350282485875\n",
      "870642 8.01863354037267\n",
      "970791 8.122727272727273\n",
      "143142 8.782051282051283\n",
      "998293 8.695652173913043\n",
      "907454 8.269387755102041\n",
      "681499 8.256410256410257\n",
      "888886 8.270531400966183\n",
      "608522 8.61006289308176\n",
      "362471 7.929906542056075\n",
      "465496 8.303571428571429\n",
      "208100 8.587912087912088\n",
      "138296 8.275\n",
      "775967 8.431472081218274\n",
      "692318 8.166666666666666\n",
      "461584 8.235042735042734\n",
      "626000 8.428571428571429\n",
      "458200 8.394736842105264\n",
      "581065 8.224489795918368\n",
      "787967 8.411458333333334\n",
      "381227 8.223463687150838\n",
      "750259 8.354066985645932\n",
      "881983 8.325443786982248\n",
      "294697 8.572490706319703\n",
      "816041 8.462025316455696\n",
      "993835 8.434285714285714\n"
     ]
    }
   ],
   "source": [
    "del data[0]\n",
    "del data[-1]\n",
    "credits = 0\n",
    "students = {}\n",
    "courses = []\n",
    "grades = {\"AP\" : 10, \"AA\" : 10, \"AB\" : 9, \"BB\" : 8, \"BC\" : 7, \"CC\" : 6}\n",
    "\n",
    "for lists in data:\n",
    "    row = lists.copy()\n",
    "    course = row[3]\n",
    "    if course not in courses:\n",
    "        courses.append(course)\n",
    "        credits += int(row[2])\n",
    "    if (row[0] not in students):\n",
    "        students[row[0]] = []\n",
    "    students[row[0]].append((int(row[2]), grades[row[5]]))\n",
    "\n",
    "print(credits)\n",
    "\n",
    "for item in students:\n",
    "    weightedCreds = 0\n",
    "    creds = 0\n",
    "    for course in students[item]:\n",
    "        weightedCreds += course[0]*course[1]\n",
    "        creds += course[0]\n",
    "    print(str(item) + \" \" + str(weightedCreds/creds))"
   ]
  },
  {
   "cell_type": "markdown",
   "metadata": {},
   "source": [
    "#### 2.c: Print out the names of all students who meet the graduation requirements \n",
    "Atleast 20 credist of core course, 15 credits of department elective, 10 credits of flexible elective and 5 credits of hasmed electives"
   ]
  },
  {
   "cell_type": "code",
   "execution_count": 62,
   "metadata": {},
   "outputs": [
    {
     "name": "stdout",
     "output_type": "stream",
     "text": [
      "588946\n",
      "834515\n",
      "781075\n",
      "180828\n",
      "981238\n",
      "836881\n",
      "310604\n",
      "773982\n",
      "500658\n",
      "810863\n",
      "124663\n",
      "871746\n",
      "986057\n",
      "379479\n",
      "144528\n",
      "485484\n",
      "845623\n",
      "150503\n",
      "214270\n",
      "517837\n",
      "482623\n",
      "721490\n",
      "955757\n",
      "143856\n",
      "571782\n",
      "973158\n",
      "703403\n",
      "960395\n",
      "521087\n",
      "461971\n",
      "879634\n",
      "716985\n",
      "265922\n",
      "283796\n",
      "203200\n",
      "327122\n",
      "534763\n",
      "391848\n",
      "971123\n",
      "207443\n",
      "488661\n",
      "782129\n",
      "928288\n",
      "581858\n",
      "282482\n",
      "572815\n",
      "608952\n",
      "628849\n",
      "630568\n",
      "388969\n",
      "159438\n",
      "970791\n",
      "143142\n",
      "998293\n",
      "681499\n",
      "888886\n",
      "608522\n",
      "362471\n",
      "692318\n",
      "626000\n",
      "581065\n",
      "787967\n",
      "381227\n",
      "750259\n",
      "881983\n",
      "294697\n"
     ]
    }
   ],
   "source": [
    "#there are no names in the file. printing roll numbers instead (for 2.c, 2.d and 2.e)\n",
    "students = {}\n",
    "key = {\"core\" : 0, \"department_elective\" : 1, \"flexible_elective\" : 2, \"hasmed_elective\" : 3}\n",
    "for row in data:\n",
    "    if row[0] not in students:\n",
    "        students[row[0]] = [0, 0, 0, 0]\n",
    "    if(row[4] in key):\n",
    "        students[row[0]][key[row[4]]] += int(row[2])\n",
    "for roll_no in students:\n",
    "    if(students[roll_no][0] >= 20) and (students[roll_no][1] >= 15) and (students[roll_no][2] >= 10) and (students[roll_no][3] >= 5):\n",
    "        print(roll_no)"
   ]
  },
  {
   "cell_type": "markdown",
   "metadata": {},
   "source": [
    "#### 2.d: Print out the names of all students who completed a minor \n",
    "Atleast 10 credits with minor tag in a specific department"
   ]
  },
  {
   "cell_type": "code",
   "execution_count": 65,
   "metadata": {},
   "outputs": [],
   "source": [
    "#students has the format-> roll_no : {dept : credits}\n",
    "#deciding 'specific dept.' as the dept from which the course originates and NOT the dept of student\n",
    "students = {}\n",
    "for row in data:\n",
    "    if row[4] == \"minor\":\n",
    "        if row[0] not in students:\n",
    "            students[row[0]] = {}\n",
    "        if [row[3][:-3]] not in tuple(students[row[0]]):\n",
    "            students[row[0]][row[3][:-3]] = 0\n",
    "        students[row[0]][row[3][:-3]] += int(row[2])\n",
    "for roll_no in students:\n",
    "    #print(roll_no, students[roll_no])\n",
    "    #nobody has a minor\n",
    "    for dept in students[roll_no]:\n",
    "        if(students[roll_no][dept] >= 10):\n",
    "            print(roll_no)\n",
    "            break"
   ]
  },
  {
   "cell_type": "markdown",
   "metadata": {},
   "source": [
    "#### 2.e: Print out the names of all students who completed a honours\n",
    "Atleast 10 credits with honours tag and 20 core credits"
   ]
  },
  {
   "cell_type": "code",
   "execution_count": 68,
   "metadata": {},
   "outputs": [
    {
     "name": "stdout",
     "output_type": "stream",
     "text": [
      "588946\n",
      "145372\n",
      "834515\n",
      "781075\n",
      "836881\n",
      "310604\n",
      "773982\n",
      "500658\n",
      "810863\n",
      "124663\n",
      "364146\n",
      "871746\n",
      "986057\n",
      "718510\n",
      "379479\n",
      "582912\n",
      "788020\n",
      "613401\n",
      "144528\n",
      "485484\n",
      "199713\n",
      "845623\n",
      "150503\n",
      "214270\n",
      "517837\n",
      "482623\n",
      "721490\n",
      "955757\n",
      "589528\n",
      "143856\n",
      "571782\n",
      "973158\n",
      "703403\n",
      "960395\n",
      "521087\n",
      "461971\n",
      "879634\n",
      "716985\n",
      "265922\n",
      "283796\n",
      "203200\n",
      "327122\n",
      "534763\n",
      "391848\n",
      "971123\n",
      "207443\n",
      "488661\n",
      "782129\n",
      "928288\n",
      "581858\n",
      "282482\n",
      "572815\n",
      "608952\n",
      "628849\n",
      "630568\n",
      "388969\n",
      "159438\n",
      "870642\n",
      "970791\n",
      "143142\n",
      "998293\n",
      "681499\n",
      "888886\n",
      "608522\n",
      "362471\n",
      "465496\n",
      "208100\n",
      "692318\n",
      "626000\n",
      "458200\n",
      "581065\n",
      "787967\n",
      "750259\n",
      "881983\n",
      "294697\n"
     ]
    }
   ],
   "source": [
    "students = {}\n",
    "for row in data:\n",
    "    if row[0] not in students:\n",
    "        #first element is core creds and second is honors\n",
    "        students[row[0]] = [0, 0]\n",
    "    if row[4] == \"core\":\n",
    "        students[row[0]][0] += int(row[2])\n",
    "    elif row[4] == \"honours\":\n",
    "        students[row[0]][1] += int(row[2])\n",
    "\n",
    "for roll_no in students:\n",
    "    if (students[roll_no][0] >= 20) and (students[roll_no][1] >= 10):\n",
    "        print(roll_no)"
   ]
  },
  {
   "cell_type": "markdown",
   "metadata": {},
   "source": [
    "# **SciPy** "
   ]
  },
  {
   "cell_type": "markdown",
   "metadata": {},
   "source": [
    "## Part A\n",
    "Minimize the function $f(x, y) = 2(x - y - 3)^2 + 4(x + 2y + 1)^4$.<br>\n",
    "With the constraints : $ x - y \\ge -3, (x + 2)^2 + (y + 1)^2 \\le 5$ <br>\n",
    "Using scipy.optimize.minimize with constraints. (Hint: Look at the examples in the official documentation)"
   ]
  },
  {
   "cell_type": "code",
   "execution_count": 72,
   "metadata": {},
   "outputs": [
    {
     "data": {
      "text/plain": [
       " message: Optimization terminated successfully\n",
       " success: True\n",
       "  status: 0\n",
       "     fun: 7.345026216977383\n",
       "       x: [ 2.349e-01 -9.285e-01]\n",
       "     nit: 9\n",
       "     jac: [-1.120e+01 -3.582e-01]\n",
       "    nfev: 31\n",
       "    njev: 9"
      ]
     },
     "execution_count": 72,
     "metadata": {},
     "output_type": "execute_result"
    }
   ],
   "source": [
    "import numpy as np\n",
    "from scipy import *\n",
    "from scipy.optimize import minimize\n",
    "\n",
    "def f(x):\n",
    "    return (2*((x[0]-x[1]-3)**2) + 4*((x[0]+2*x[1]+1)**4))\n",
    "\n",
    "cons = ({'type' : 'ineq', 'fun' : lambda x: x[0] - x[1] + 3},\n",
    "        {'type' : 'ineq', 'fun' : lambda x: 5 - (x[0] + 2)**2 - (x[1] + 1)**2})\n",
    "minimize(f, (0, 0), constraints = cons)"
   ]
  },
  {
   "cell_type": "markdown",
   "metadata": {},
   "source": [
    "# Part B\n",
    "Evaluate the line integral of the function $f(x, y) = x^2 + y^4$ along the circle $ x^2 + y^2 = 3 $ anticlockwise (scalar integral, not vector). You must use scipy for integration but you may use parameterization"
   ]
  },
  {
   "cell_type": "code",
   "execution_count": 75,
   "metadata": {},
   "outputs": [
    {
     "name": "stdout",
     "output_type": "stream",
     "text": [
      "(9.522446662229642, 9.984747195712629e-10)\n"
     ]
    }
   ],
   "source": [
    "import numpy as np\n",
    "from scipy import *\n",
    "from scipy.integrate import quad\n",
    "\n",
    "def f(x):\n",
    "    return ((np.cos(x)**2 + np.sin(x)**4)*np.sqrt(3))\n",
    "print(quad(f, 0, 2*np.pi))"
   ]
  },
  {
   "cell_type": "markdown",
   "metadata": {},
   "source": [
    "# **Numpy**"
   ]
  },
  {
   "cell_type": "markdown",
   "metadata": {},
   "source": [
    "### Read Lisan_Al_Gaib.pdf for problem description and complete the following functions"
   ]
  },
  {
   "cell_type": "code",
   "execution_count": 79,
   "metadata": {},
   "outputs": [],
   "source": [
    "import time # to time the execution\n",
    "import numpy as np\n",
    "import matplotlib.pyplot as plt"
   ]
  },
  {
   "cell_type": "code",
   "execution_count": 81,
   "metadata": {},
   "outputs": [],
   "source": [
    "### TODO 1\n",
    "### Load data from data_path\n",
    "### Check the input file spice_locations.txt to understand the Data Format\n",
    "### Return : np array of size Nx2\n",
    "def load_data(data_path):\n",
    "    data = []\n",
    "    with open(data_path, 'r') as reader:\n",
    "        data = reader.read()\n",
    "        data = data.replace(\"\\n\", ',')\n",
    "        data = data.split(',')\n",
    "        del data[-1]\n",
    "        N = int(len(data)/2)\n",
    "        array = np.array(data, dtype = np.float32)\n",
    "        array = np.reshape(array, (N, 2))\n",
    "        return array"
   ]
  },
  {
   "cell_type": "code",
   "execution_count": 83,
   "metadata": {},
   "outputs": [],
   "source": [
    "### TODO 2.1\n",
    "### If init_centers is None, initialize the centers by selecting K data points at random without replacement\n",
    "### Else, use the centers provided in init_centers\n",
    "### Return : np array of size Kx2\n",
    "def initialise_centers(data, K, init_centers=None):\n",
    "    N = data.shape\n",
    "    N = N[0]\n",
    "    if init_centers == None:\n",
    "        indices = np.random.randint(0, N, (K, ))\n",
    "        init_centers = data[indices]\n",
    "    return init_centers"
   ]
  },
  {
   "cell_type": "code",
   "execution_count": 85,
   "metadata": {},
   "outputs": [],
   "source": [
    "### TODO 2.2\n",
    "### Initialize the labels to all ones to size (N,) where N is the number of data points\n",
    "### Return : np array of size N\n",
    "def initialise_labels(data):\n",
    "    return np.ones((len(data), ), dtype = np.int32)"
   ]
  },
  {
   "cell_type": "code",
   "execution_count": 87,
   "metadata": {},
   "outputs": [],
   "source": [
    "### TODO 3.1 : E step\n",
    "### For Each data point, find the distance to each center\n",
    "### Return : np array of size NxK\n",
    "def calculate_distances(data, centers):\n",
    "    N = data.shape\n",
    "    K = centers.shape\n",
    "    N = N[0]\n",
    "    K = K[0]\n",
    "    data = np.resize(data, (K, N, 2))\n",
    "    data = np.transpose(data, (1, 0, 2))\n",
    "    np.resize(centers, (N, K, 2))\n",
    "    # print(\"data.shape: \", data.shape)\n",
    "    # print(\"centers.shape: \", centers.shape)\n",
    "    result = (data-centers)**2\n",
    "    # print (\"result.shape: \", result.shape)\n",
    "    result = np.transpose(result, (1, 2, 0))\n",
    "    # print (\"result.shape after transpose: \", result.shape)\n",
    "    result = np.reshape(result, (2, -1))\n",
    "    # print (\"result.shape after reshaping: \", result.shape)\n",
    "    result_new = np.sqrt(result[0]+result[1])\n",
    "    # print (\"result_new.shape: \", result_new.shape)\n",
    "    result_new = np.reshape(result_new, (N, K))\n",
    "    return result_new"
   ]
  },
  {
   "cell_type": "code",
   "execution_count": 89,
   "metadata": {},
   "outputs": [],
   "source": [
    "### TODO 3.2 : E step\n",
    "### For Each data point, assign the label of the nearest center\n",
    "### Return : np array of size N\n",
    "def update_labels(distances):\n",
    "    return np.argmin(distances, axis = 1)"
   ]
  },
  {
   "cell_type": "code",
   "execution_count": 91,
   "metadata": {},
   "outputs": [],
   "source": [
    "### TODO 4 : M step\n",
    "### Update the centers to the mean of the data points assigned to it\n",
    "### Return : np array of size Kx2\n",
    "def update_centers(data, labels, K):\n",
    "    N = data.shape\n",
    "    N = N[0]\n",
    "    coords = {}\n",
    "    occurences = {}\n",
    "    count = 0\n",
    "    for i in labels:\n",
    "        if i not in coords:\n",
    "            coords[i] = [0, 0]\n",
    "            occurences[i] = 0\n",
    "        coords[i][0] += data[count, 0]\n",
    "        coords[i][1] += data[count, 1]\n",
    "        occurences[i] += 1\n",
    "        count += 1\n",
    "    centers = np.array(list(dict(sorted(coords.items())).values()))\n",
    "    nPoints = np.array(list(dict(sorted(occurences.items())).values()))\n",
    "    nPoints = np.resize(nPoints, (K, 2))\n",
    "    centers = centers / nPoints\n",
    "    return centers\n",
    "# data = load_data('spice_locations.txt')    \n",
    "# centers = initialise_centers(data, 3, init_centers)\n",
    "# labels = initialise_labels(data)\n",
    "# distances = calculate_distances(data, centers)\n",
    "# labels_new = update_labels(distances)\n",
    "# centers = update_centers(data, labels_new, K)"
   ]
  },
  {
   "cell_type": "code",
   "execution_count": 93,
   "metadata": {},
   "outputs": [],
   "source": [
    "### TODO 6 : Check convergence\n",
    "### Check if the labels have changed from the previous iteration\n",
    "### Return : True / False\n",
    "def check_termination(labels1, labels2):\n",
    "    return (labels1 == labels2).all()"
   ]
  },
  {
   "cell_type": "code",
   "execution_count": 95,
   "metadata": {},
   "outputs": [],
   "source": [
    "### DON'T CHANGE ANYTHING IN THE FOLLOWING FUNCTION\n",
    "def kmeans(data_path:str, K:int, init_centers):\n",
    "    '''\n",
    "    Input :\n",
    "        data (type str): path to the file containing the data\n",
    "        K (type int): number of clusters\n",
    "        init_centers (type numpy.ndarray): initial centers. shape = (K, 2) or None\n",
    "    Output :\n",
    "        centers (type numpy.ndarray): final centers. shape = (K, 2)\n",
    "        labels (type numpy.ndarray): label of each data point. shape = (N,)\n",
    "        time (type float): time taken by the algorithm to converge in seconds\n",
    "    N is the number of data points each of shape (2,)\n",
    "    '''\n",
    "    data = load_data(data_path)    \n",
    "    centers = initialise_centers(data, K, init_centers)\n",
    "    labels = initialise_labels(data)\n",
    "\n",
    "    start_time = time.time() # Time stamp \n",
    "\n",
    "    while True:\n",
    "        distances = calculate_distances(data, centers)\n",
    "        labels_new = update_labels(distances)\n",
    "        centers = update_centers(data, labels_new, K)\n",
    "        if check_termination(labels, labels_new): break\n",
    "        else: labels = labels_new\n",
    " \n",
    "    end_time = time.time() # Time stamp after the algorithm ends\n",
    "    return centers, labels, end_time - start_time "
   ]
  },
  {
   "cell_type": "code",
   "execution_count": 97,
   "metadata": {},
   "outputs": [],
   "source": [
    "### TODO 7\n",
    "def visualise(data_path, labels, centers):\n",
    "    data = load_data(data_path)\n",
    "\n",
    "    # Scatter plot of the data points\n",
    "    plt.scatter(data[:, 0], data[:, 1], c=labels, s=50, cmap='viridis')\n",
    "    plt.scatter(centers[:, 0], centers[:, 1], c='black', s=200, alpha=0.5)\n",
    "\n",
    "    ### Set title as 'K-means clustering'\n",
    "\n",
    "    ### Set xlabel as 'Longitude'\n",
    "\n",
    "    ### Set ylabel as 'Latitude'\n",
    "\n",
    "    ### Save the plot as 'kmeans.png'\n",
    "    plt.xlabel('Longitude')\n",
    "    plt.ylabel('Latitude')\n",
    "    plt.title('K-means clustering')\n",
    "    plt.savefig('kmeans.png')\n",
    "\n",
    "    ## DO NOT CHANGE THE FOLLOWING LINE\n",
    "    return plt"
   ]
  },
  {
   "cell_type": "code",
   "execution_count": 99,
   "metadata": {},
   "outputs": [
    {
     "name": "stdout",
     "output_type": "stream",
     "text": [
      "Time taken for the algorithm to converge: 0.002468585968017578\n"
     ]
    },
    {
     "data": {
      "text/plain": [
       "<module 'matplotlib.pyplot' from 'C:\\\\Users\\\\visha\\\\anaconda3\\\\Lib\\\\site-packages\\\\matplotlib\\\\pyplot.py'>"
      ]
     },
     "execution_count": 99,
     "metadata": {},
     "output_type": "execute_result"
    },
    {
     "data": {
      "image/png": "[encoded data removed]",
      "text/plain": [
       "<Figure size 640x480 with 1 Axes>"
      ]
     },
     "metadata": {},
     "output_type": "display_data"
    }
   ],
   "source": [
    "### After you have completed the above functions, run the following code to generate the plot\n",
    "data_path = 'spice_locations.txt'\n",
    "K, init_centers = 3, None\n",
    "centers, labels, time_taken = kmeans(data_path, K, init_centers)\n",
    "print('Time taken for the algorithm to converge:', time_taken)\n",
    "visualise(data_path, labels, centers)"
   ]
  }
 ],
 "metadata": {
  "kernelspec": {
   "display_name": "Python 3 (ipykernel)",
   "language": "python",
   "name": "python3"
  },
  "language_info": {
   "codemirror_mode": {
    "name": "ipython",
    "version": 3
   },
   "file_extension": ".py",
   "mimetype": "text/x-python",
   "name": "python",
   "nbconvert_exporter": "python",
   "pygments_lexer": "ipython3",
   "version": "3.12.7"
  }
 },
 "nbformat": 4,
 "nbformat_minor": 4
}
